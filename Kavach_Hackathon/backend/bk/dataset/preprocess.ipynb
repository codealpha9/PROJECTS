{
 "cells": [
  {
   "cell_type": "code",
   "execution_count": 14,
   "metadata": {},
   "outputs": [],
   "source": [
    "import arff\n",
    "import pandas as pd\n",
    "import numpy as np\n",
    "import json\n",
    "from sklearn.model_selection import train_test_split, KFold\n",
    "from scipy.io import arff"
   ]
  },
  {
   "cell_type": "code",
   "execution_count": 16,
   "metadata": {},
   "outputs": [
    {
     "data": {
      "text/plain": [
       "array([[-1,  1,  1, ...,  1, -1, -1],\n",
       "       [ 1,  1,  1, ...,  1,  1, -1],\n",
       "       [ 1,  0,  1, ...,  0, -1, -1],\n",
       "       ...,\n",
       "       [ 1, -1,  1, ...,  0,  1, -1],\n",
       "       [-1, -1,  1, ...,  1,  1, -1],\n",
       "       [-1, -1,  1, ...,  1, -1, -1]])"
      ]
     },
     "execution_count": 16,
     "metadata": {},
     "output_type": "execute_result"
    }
   ],
   "source": [
    "dataset = arff.loadarff(open('dataset.arff','r'))\n",
    "array = arff.loadarff('dataset.arff')\n",
    "df = pd.DataFrame(array[0])\n",
    "for x in df.columns:\n",
    "    df[x] = df[x].astype(int)\n",
    "data = np.array(df)\n",
    "data"
   ]
  },
  {
   "cell_type": "code",
   "execution_count": 17,
   "metadata": {
    "scrolled": true
   },
   "outputs": [
    {
     "name": "stdout",
     "output_type": "stream",
     "text": [
      "The dataset has 11055 datapoints with 30 features\n"
     ]
    }
   ],
   "source": [
    "print('The dataset has {0} datapoints with {1} features'.format(data.shape[0], data.shape[1]-1))"
   ]
  },
  {
   "cell_type": "code",
   "execution_count": 18,
   "metadata": {},
   "outputs": [],
   "source": [
    "data = data[:, [0, 1, 2, 3, 4, 5, 6, 7, 9, 10, 11, 12, 13, 14, 15, 16, 22, 30]]"
   ]
  },
  {
   "cell_type": "code",
   "execution_count": 19,
   "metadata": {},
   "outputs": [
    {
     "name": "stdout",
     "output_type": "stream",
     "text": [
      "Before spliting\n",
      "X:(11055, 17), y:(11055,)\n",
      "After spliting\n",
      "X_train:(7738, 17), y_train:(7738,), X_test:(3317, 17), y_test:(3317,)\n"
     ]
    }
   ],
   "source": [
    "X, y = data[:, :-1], data[:, -1]\n",
    "y.reshape(y.shape[0])\n",
    "print('Before spliting')\n",
    "print('X:{0}, y:{1}'.format(X.shape, y.shape))\n",
    "X_train, X_test, y_train, y_test = train_test_split(X, y, test_size=0.3, random_state=0)\n",
    "print('After spliting')\n",
    "print('X_train:{0}, y_train:{1}, X_test:{2}, y_test:{3}'.format(X_train.shape, y_train.shape, X_test.shape, y_test.shape))"
   ]
  },
  {
   "cell_type": "code",
   "execution_count": 20,
   "metadata": {},
   "outputs": [
    {
     "name": "stdout",
     "output_type": "stream",
     "text": [
      "Saved!\n"
     ]
    }
   ],
   "source": [
    "np.save('X_train.npy', X_train)\n",
    "np.save('X_test.npy', X_test)\n",
    "np.save('y_train.npy', y_train)\n",
    "np.save('y_test.npy', y_test)\n",
    "print('Saved!')"
   ]
  },
  {
   "cell_type": "code",
   "execution_count": 21,
   "metadata": {},
   "outputs": [
    {
     "name": "stdout",
     "output_type": "stream",
     "text": [
      "Test Data written to testdata.json\n"
     ]
    }
   ],
   "source": [
    "test_data = dict()\n",
    "test_data['X_test'] = X_test.tolist()\n",
    "test_data['y_test'] = y_test.tolist()\n",
    "with open('../../static/testdata.json', 'w') as tdfile:\n",
    "    json.dump(test_data, tdfile)\n",
    "    print('Test Data written to testdata.json')"
   ]
  }
 ],
 "metadata": {
  "kernelspec": {
   "display_name": "Python 3 (ipykernel)",
   "language": "python",
   "name": "python3"
  },
  "language_info": {
   "codemirror_mode": {
    "name": "ipython",
    "version": 3
   },
   "file_extension": ".py",
   "mimetype": "text/x-python",
   "name": "python",
   "nbconvert_exporter": "python",
   "pygments_lexer": "ipython3",
   "version": "3.10.10"
  }
 },
 "nbformat": 4,
 "nbformat_minor": 2
}
